{
 "cells": [
  {
   "cell_type": "code",
   "execution_count": 1,
   "id": "840d98d9-ecd0-4171-952c-cf5613bfda2e",
   "metadata": {},
   "outputs": [],
   "source": [
    "import csv\n",
    "import sys\n",
    "from queue import Queue"
   ]
  },
  {
   "cell_type": "code",
   "execution_count": 2,
   "id": "4b81bae0-5c19-4bb3-8206-bc466f54d54a",
   "metadata": {},
   "outputs": [],
   "source": [
    "# Load the data from the CSV file into a dictionary\n",
    "def load_data(filename):\n",
    "    data = {}\n",
    "    with open(filename, 'r') as file:\n",
    "        reader = csv.reader(file)\n",
    "        for row in reader:\n",
    "            actor = row[0]\n",
    "            movie = row[1]\n",
    "            if actor not in data:\n",
    "                data[actor] = set()\n",
    "            data[actor].add(movie)\n",
    "            if movie not in data:\n",
    "                data[movie] = set()\n",
    "            data[movie].add(actor)\n",
    "    return data\n"
   ]
  },
  {
   "cell_type": "code",
   "execution_count": 3,
   "id": "75130863-d582-4034-9d92-8e498dff8199",
   "metadata": {},
   "outputs": [],
   "source": [
    "# Function to find the shortest path between two actors using BFS\n",
    "def bfs(start, end, data):\n",
    "    visited = set()\n",
    "    queue = Queue()\n",
    "    queue.put((start, 0))\n",
    "    while not queue.empty():\n",
    "        actor, degree = queue.get()\n",
    "        if actor == end:\n",
    "            return degree\n",
    "        visited.add(actor)\n",
    "        for neighbor in data[actor]:\n",
    "            if neighbor not in visited:\n",
    "                queue.put((neighbor, degree + 1))\n",
    "    return None"
   ]
  },
  {
   "cell_type": "code",
   "execution_count": 4,
   "id": "30fcc3f8-71c2-45ae-bf09-2689ebd39564",
   "metadata": {},
   "outputs": [
    {
     "name": "stdout",
     "output_type": "stream",
     "text": [
      "Enter first name: Bill Paxton\n",
      "Enter first name: Robin Wright\n",
      "Bill Paxton and Robin Wright: Degree of Separation = 4 \n"
     ]
    }
   ],
   "source": [
    "# Main function\n",
    "def main():\n",
    "\n",
    "    data = load_data('small.csv')\n",
    "    start = input(\"Enter first name: \")\n",
    "    end = input(\"Enter first name: \")\n",
    "    degree = bfs(start, end, data)\n",
    "    if degree is None:\n",
    "        print(\"No connection found\")\n",
    "    else:\n",
    "        print(f\"{start} and {end}: Degree of Separation = {degree} \")\n",
    "\n",
    "if __name__ == \"__main__\":\n",
    "    main()"
   ]
  },
  {
   "cell_type": "code",
   "execution_count": 20,
   "id": "0190cca9-5089-403f-94de-56decafa05ba",
   "metadata": {},
   "outputs": [
    {
     "name": "stdout",
     "output_type": "stream",
     "text": [
      "Bill Paxton and Robin Wright: Degree of Separation = 4 \n"
     ]
    }
   ],
   "source": []
  }
 ],
 "metadata": {
  "kernelspec": {
   "display_name": "Python 3 (ipykernel)",
   "language": "python",
   "name": "python3"
  },
  "language_info": {
   "codemirror_mode": {
    "name": "ipython",
    "version": 3
   },
   "file_extension": ".py",
   "mimetype": "text/x-python",
   "name": "python",
   "nbconvert_exporter": "python",
   "pygments_lexer": "ipython3",
   "version": "3.10.9"
  }
 },
 "nbformat": 4,
 "nbformat_minor": 5
}
