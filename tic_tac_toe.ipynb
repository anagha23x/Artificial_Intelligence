{
 "cells": [
  {
   "cell_type": "markdown",
   "id": "2787d272",
   "metadata": {},
   "source": [
    "## Exercises\n",
    "\n",
    "EasyAI is an artificial intelligence framework for two-players abstract games. Read\n",
    "through the documentation.\\\n",
    "http://zulko.github.io/easyAI/index.html/\n",
    "Write a python program to define and implement a tic—tac-toe game with one human\n",
    "player. \\\n",
    "Solve the game using the built in algorithms and compare the solutions:\\\n",
    "    1. Iterative Deepening \\\n",
    "    2. Depth first search"
   ]
  },
  {
   "cell_type": "markdown",
   "id": "622a045a",
   "metadata": {},
   "source": [
    "## Importing Libraries"
   ]
  },
  {
   "cell_type": "code",
   "execution_count": 1,
   "id": "9205f163",
   "metadata": {},
   "outputs": [],
   "source": [
    "import easyAI\n",
    "from easyAI import TwoPlayerGame\n",
    "from easyAI.Player import Human_Player\n",
    "from easyAI import AI_Player, Negamax\n",
    "from easyAI import solve_with_iterative_deepening, solve_with_depth_first_search\n",
    "import time"
   ]
  },
  {
   "cell_type": "markdown",
   "id": "d1d7115f",
   "metadata": {},
   "source": [
    "## Creating Tic-Tac-Toe Game"
   ]
  },
  {
   "cell_type": "code",
   "execution_count": 2,
   "id": "e3a9cb35",
   "metadata": {},
   "outputs": [],
   "source": [
    "class TicTacToe( TwoPlayerGame ):\n",
    "    \"\"\" The board positions are numbered as follows:\n",
    "            1 2 3\n",
    "            4 5 6\n",
    "            7 8 9\n",
    "    \"\"\"    \n",
    "    def __init__(self, players):\n",
    "        self.players = players\n",
    "        self.board = [0 for i in range(9)]\n",
    "        self.nplayer = 1\n",
    "        self.nopponent = 3-self.nplayer\n",
    "        self.current_player=1\n",
    "        \n",
    "    def possible_moves(self):\n",
    "        return [i+1 for i,e in enumerate(self.board) if e==0]\n",
    "    \n",
    "    def make_move(self, move):\n",
    "        self.board[int(move)-1] = self.nplayer\n",
    "        self.nplayer=3-self.nplayer\n",
    "\n",
    "#     def unmake_move(self, move): # optional method (speeds up the AI)\n",
    "#         self.board[int(move)-1] = 0\n",
    "    \n",
    "    def lose(self):\n",
    "        \"\"\" Has the opponent \"three in line ?\" \"\"\"\n",
    "        return any( [all([(self.board[c-1]== self.current_player)\n",
    "                      for c in line])\n",
    "                      for line in [[1,2,3],[4,5,6],[7,8,9], # horiz.\n",
    "                                   [1,4,7],[2,5,8],[3,6,9], # vertical\n",
    "                                   [1,5,9],[3,5,7]]]) # diagonal\n",
    "        \n",
    "    def is_over(self):\n",
    "        return (self.possible_moves() == []) or self.lose()\n",
    "        \n",
    "    def show(self):\n",
    "        print ('\\n'+'\\n'.join([\n",
    "                        ' '.join([['.','O','X'][self.board[3*j+i]]\n",
    "                        for i in range(3)])\n",
    "                 for j in range(3)]) )\n",
    "                 \n",
    "    def scoring(self):\n",
    "        return -100 if self.lose() else 0"
   ]
  },
  {
   "cell_type": "code",
   "execution_count": 3,
   "id": "13b71f7f",
   "metadata": {},
   "outputs": [],
   "source": [
    "def main(algo):\n",
    "    ai = Negamax(9)\n",
    "    if algo == 'id':\n",
    "        result = solve_with_iterative_deepening(game=TicTacToe(players=[AI_Player(ai), Human_Player()]), ai_depths=range(2, 10), win_score=100)\n",
    "    elif algo == 'dfs':\n",
    "        result = solve_with_depth_first_search(game=TicTacToe(players=[AI_Player(ai), Human_Player()]), win_score=100)\n",
    "    else:\n",
    "        print(\"Invalid algorithm.\")\n",
    "    return result"
   ]
  },
  {
   "cell_type": "markdown",
   "id": "58c5abf8",
   "metadata": {},
   "source": [
    "### 1. Analyzing solution provided by Iterative Deepening."
   ]
  },
  {
   "cell_type": "code",
   "execution_count": 4,
   "id": "d4bccfc3",
   "metadata": {},
   "outputs": [
    {
     "name": "stdout",
     "output_type": "stream",
     "text": [
      "d:2, a:0, m:1\n",
      "d:3, a:0, m:1\n",
      "d:4, a:0, m:1\n",
      "d:5, a:0, m:1\n",
      "d:6, a:0, m:1\n",
      "d:7, a:0, m:1\n",
      "d:8, a:0, m:1\n",
      "d:9, a:0, m:1\n",
      "Result:  (0, 9, 1)\n",
      "Time Taken: 0.29s\n"
     ]
    }
   ],
   "source": [
    "start = time.time()\n",
    "idres = main('id')\n",
    "end = time.time()\n",
    "print('Result: ', idres)\n",
    "print(str.format('Time Taken: {:.2f}s', end-start))"
   ]
  },
  {
   "cell_type": "markdown",
   "id": "0ce3e249",
   "metadata": {},
   "source": [
    "### 2. Analyzing solution provided by Depth First Search."
   ]
  },
  {
   "cell_type": "code",
   "execution_count": 5,
   "id": "756550f2",
   "metadata": {},
   "outputs": [
    {
     "name": "stdout",
     "output_type": "stream",
     "text": [
      "Result:  0\n",
      "Time Taken: 9.37s\n"
     ]
    }
   ],
   "source": [
    "start = time.time()\n",
    "dfsres = main('dfs')\n",
    "end = time.time()\n",
    "print('Result: ', dfsres)\n",
    "print(str.format('Time Taken: {:.2f}s', end-start))"
   ]
  },
  {
   "cell_type": "markdown",
   "id": "38b9cd5c",
   "metadata": {},
   "source": [
    "### Clearly, Iterative Deepening works much better than Depth First Search."
   ]
  },
  {
   "cell_type": "markdown",
   "id": "ff90dbb0",
   "metadata": {},
   "source": [
    "#  AI VS Human "
   ]
  },
  {
   "cell_type": "code",
   "execution_count": null,
   "id": "7b7594d8-b66f-4c85-a8a5-6348c9f41147",
   "metadata": {},
   "outputs": [
    {
     "name": "stdout",
     "output_type": "stream",
     "text": [
      "\n",
      ". . .\n",
      ". . .\n",
      ". . .\n"
     ]
    }
   ],
   "source": [
    "ai_algo = Negamax(9)\n",
    "TicTacToe( [Human_Player(),AI_Player(ai_algo)]).play()"
   ]
  },
  {
   "cell_type": "markdown",
   "id": "f03cf5cd",
   "metadata": {},
   "source": [
    "# Human VS Human"
   ]
  },
  {
   "cell_type": "code",
   "execution_count": null,
   "id": "23c8b15d",
   "metadata": {},
   "outputs": [],
   "source": [
    "TicTacToe( [Human_Player(),Human_Player()]).play()"
   ]
  },
  {
   "cell_type": "code",
   "execution_count": null,
   "id": "b7ef0783-9773-41de-9f45-80025803e9d1",
   "metadata": {},
   "outputs": [],
   "source": []
  }
 ],
 "metadata": {
  "kernelspec": {
   "display_name": "Python 3 (ipykernel)",
   "language": "python",
   "name": "python3"
  },
  "language_info": {
   "codemirror_mode": {
    "name": "ipython",
    "version": 3
   },
   "file_extension": ".py",
   "mimetype": "text/x-python",
   "name": "python",
   "nbconvert_exporter": "python",
   "pygments_lexer": "ipython3",
   "version": "3.11.4"
  }
 },
 "nbformat": 4,
 "nbformat_minor": 5
}
